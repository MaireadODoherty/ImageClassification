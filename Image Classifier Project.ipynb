{
 "cells": [
  {
   "cell_type": "markdown",
   "metadata": {},
   "source": [
    "# Developing an AI application\n",
    "\n",
    "Going forward, AI algorithms will be incorporated into more and more everyday applications. For example, you might want to include an image classifier in a smart phone app. To do this, you'd use a deep learning model trained on hundreds of thousands of images as part of the overall application architecture. A large part of software development in the future will be using these types of models as common parts of applications. \n",
    "\n",
    "In this project, you'll train an image classifier to recognize different species of flowers. You can imagine using something like this in a phone app that tells you the name of the flower your camera is looking at. In practice you'd train this classifier, then export it for use in your application. We'll be using [this dataset](http://www.robots.ox.ac.uk/~vgg/data/flowers/102/index.html) of 102 flower categories, you can see a few examples below. \n",
    "\n",
    "<img src='assets/Flowers.png' width=500px>\n",
    "\n",
    "The project is broken down into multiple steps:\n",
    "\n",
    "* Load and preprocess the image dataset\n",
    "* Train the image classifier on your dataset\n",
    "* Use the trained classifier to predict image content\n",
    "\n",
    "We'll lead you through each part which you'll implement in Python.\n",
    "\n",
    "When you've completed this project, you'll have an application that can be trained on any set of labeled images. Here your network will be learning about flowers and end up as a command line application. But, what you do with your new skills depends on your imagination and effort in building a dataset. For example, imagine an app where you take a picture of a car, it tells you what the make and model is, then looks up information about it. Go build your own dataset and make something new.\n",
    "\n",
    "First up is importing the packages you'll need. It's good practice to keep all the imports at the beginning of your code. As you work through this notebook and find you need to import a package, make sure to add the import up here."
   ]
  },
  {
   "cell_type": "code",
   "execution_count": 50,
   "metadata": {},
   "outputs": [],
   "source": [
    " # Imports here\n",
    "import torch\n",
    "import torch.nn as nn\n",
    "import torch.optim as optim\n",
    "from torch.optim import lr_scheduler\n",
    "import numpy as np\n",
    "import time\n",
    "import os\n",
    "import argparse\n",
    "from torchvision import datasets, models, transforms, utils\n",
    "from torch.autograd import Variable\n",
    "import torch.nn.functional as F\n",
    "import copy\n",
    "from PIL import Image\n",
    "import matplotlib.pyplot as plt\n",
    "import json\n",
    "from collections import OrderedDict\n",
    "import time\n",
    "\n",
    "%matplotlib inline\n",
    "%config InlineBackend.figure_format = 'retina'"
   ]
  },
  {
   "cell_type": "markdown",
   "metadata": {},
   "source": [
    "## Load the data\n",
    "\n",
    "Here you'll use `torchvision` to load the data ([documentation](http://pytorch.org/docs/0.3.0/torchvision/index.html)). The data should be included alongside this notebook, otherwise you can [download it here](https://s3.amazonaws.com/content.udacity-data.com/nd089/flower_data.tar.gz). The dataset is split into three parts, training, validation, and testing. For the training, you'll want to apply transformations such as random scaling, cropping, and flipping. This will help the network generalize leading to better performance. You'll also need to make sure the input data is resized to 224x224 pixels as required by the pre-trained networks.\n",
    "\n",
    "The validation and testing sets are used to measure the model's performance on data it hasn't seen yet. For this you don't want any scaling or rotation transformations, but you'll need to resize then crop the images to the appropriate size.\n",
    "\n",
    "The pre-trained networks you'll use were trained on the ImageNet dataset where each color channel was normalized separately. For all three sets you'll need to normalize the means and standard deviations of the images to what the network expects. For the means, it's `[0.485, 0.456, 0.406]` and for the standard deviations `[0.229, 0.224, 0.225]`, calculated from the ImageNet images.  These values will shift each color channel to be centered at 0 and range from -1 to 1.\n",
    " "
   ]
  },
  {
   "cell_type": "code",
   "execution_count": 2,
   "metadata": {},
   "outputs": [],
   "source": [
    "data_dir = 'flowers'\n",
    "train_dir = data_dir + '/train'\n",
    "valid_dir = data_dir + '/valid'\n",
    "test_dir = data_dir + '/test'\n",
    "\n",
    "nThreads = 4\n",
    "batch_size = 8\n",
    "use_gpu = torch.cuda.is_available()"
   ]
  },
  {
   "cell_type": "code",
   "execution_count": 3,
   "metadata": {},
   "outputs": [],
   "source": [
    "# TODO: Define your transforms for the training, validation, and testing sets\n",
    "train_data_transforms = transforms.Compose ([transforms.RandomRotation (30),\n",
    "                                             transforms.RandomResizedCrop (224),\n",
    "                                             transforms.RandomHorizontalFlip (),\n",
    "                                             transforms.ToTensor (),\n",
    "                                             transforms.Normalize ([0.485, 0.456, 0.406],[0.229, 0.224, 0.225])\n",
    "                                            ])\n",
    "\n",
    "valid_data_transforms = transforms.Compose ([transforms.Resize (255),\n",
    "                                             transforms.CenterCrop (224),\n",
    "                                             transforms.ToTensor (),\n",
    "                                             transforms.Normalize ([0.485, 0.456, 0.406],[0.229, 0.224, 0.225])\n",
    "                                            ])\n",
    "\n",
    "test_data_transforms = transforms.Compose ([transforms.Resize (255),\n",
    "                                             transforms.CenterCrop (224),\n",
    "                                             transforms.ToTensor (),\n",
    "                                             transforms.Normalize ([0.485, 0.456, 0.406],[0.229, 0.224, 0.225])\n",
    "                                            ])\n",
    "\n",
    "# TODO: Load the datasets with ImageFolder\n",
    "train_image_datasets = datasets.ImageFolder (train_dir, transform = train_data_transforms)\n",
    "valid_image_datasets = datasets.ImageFolder (valid_dir, transform = valid_data_transforms)\n",
    "test_image_datasets = datasets.ImageFolder (test_dir, transform = test_data_transforms)\n",
    "\n",
    "\n",
    "# TODO: Using the image datasets and the trainforms, define the dataloaders\n",
    "train_loader = torch.utils.data.DataLoader(train_image_datasets, batch_size = 64, shuffle = True)\n",
    "valid_loader = torch.utils.data.DataLoader(valid_image_datasets, batch_size = 64, shuffle = True)\n",
    "test_loader = torch.utils.data.DataLoader(test_image_datasets, batch_size = 64, shuffle = True)"
   ]
  },
  {
   "cell_type": "markdown",
   "metadata": {},
   "source": [
    "### Label mapping\n",
    "\n",
    "You'll also need to load in a mapping from category label to category name. You can find this in the file `cat_to_name.json`. It's a JSON object which you can read in with the [`json` module](https://docs.python.org/2/library/json.html). This will give you a dictionary mapping the integer encoded categories to the actual names of the flowers."
   ]
  },
  {
   "cell_type": "code",
   "execution_count": 4,
   "metadata": {},
   "outputs": [],
   "source": [
    "import json\n",
    "\n",
    "with open('cat_to_name.json', 'r') as f:\n",
    "    cat_to_name = json.load(f)"
   ]
  },
  {
   "cell_type": "markdown",
   "metadata": {},
   "source": [
    "# Building and training the classifier\n",
    "\n",
    "Now that the data is ready, it's time to build and train the classifier. As usual, you should use one of the pretrained models from `torchvision.models` to get the image features. Build and train a new feed-forward classifier using those features.\n",
    "\n",
    "We're going to leave this part up to you. Refer to [the rubric](https://review.udacity.com/#!/rubrics/1663/view) for guidance on successfully completing this section. Things you'll need to do:\n",
    "\n",
    "* Load a [pre-trained network](http://pytorch.org/docs/master/torchvision/models.html) (If you need a starting point, the VGG networks work great and are straightforward to use)\n",
    "* Define a new, untrained feed-forward network as a classifier, using ReLU activations and dropout\n",
    "* Train the classifier layers using backpropagation using the pre-trained network to get the features\n",
    "* Track the loss and accuracy on the validation set to determine the best hyperparameters\n",
    "\n",
    "We've left a cell open for you below, but use as many as you need. Our advice is to break the problem up into smaller parts you can run separately. Check that each part is doing what you expect, then move on to the next. You'll likely find that as you work through each part, you'll need to go back and modify your previous code. This is totally normal!\n",
    "\n",
    "When training make sure you're updating only the weights of the feed-forward network. You should be able to get the validation accuracy above 70% if you build everything right. Make sure to try different hyperparameters (learning rate, units in the classifier, epochs, etc) to find the best model. Save those hyperparameters to use as default values in the next part of the project.\n",
    "\n",
    "One last important tip if you're using the workspace to run your code: To avoid having your workspace disconnect during the long-running tasks in this notebook, please read in the earlier page in this lesson called Intro to\n",
    "GPU Workspaces about Keeping Your Session Active. You'll want to include code from the workspace_utils.py module.\n",
    "\n",
    "**Note for Workspace users:** If your network is over 1 GB when saved as a checkpoint, there might be issues with saving backups in your workspace. Typically this happens with wide dense layers after the convolutional layers. If your saved checkpoint is larger than 1 GB (you can open a terminal and check with `ls -lh`), you should reduce the size of your hidden layers and train again."
   ]
  },
  {
   "cell_type": "code",
   "execution_count": 5,
   "metadata": {},
   "outputs": [
    {
     "name": "stderr",
     "output_type": "stream",
     "text": [
      "Downloading: \"https://download.pytorch.org/models/alexnet-owt-4df8aa71.pth\" to /root/.torch/models/alexnet-owt-4df8aa71.pth\n",
      "100%|██████████| 244418560/244418560 [00:11<00:00, 21253219.42it/s]\n"
     ]
    },
    {
     "data": {
      "text/plain": [
       "AlexNet(\n",
       "  (features): Sequential(\n",
       "    (0): Conv2d(3, 64, kernel_size=(11, 11), stride=(4, 4), padding=(2, 2))\n",
       "    (1): ReLU(inplace)\n",
       "    (2): MaxPool2d(kernel_size=3, stride=2, padding=0, dilation=1, ceil_mode=False)\n",
       "    (3): Conv2d(64, 192, kernel_size=(5, 5), stride=(1, 1), padding=(2, 2))\n",
       "    (4): ReLU(inplace)\n",
       "    (5): MaxPool2d(kernel_size=3, stride=2, padding=0, dilation=1, ceil_mode=False)\n",
       "    (6): Conv2d(192, 384, kernel_size=(3, 3), stride=(1, 1), padding=(1, 1))\n",
       "    (7): ReLU(inplace)\n",
       "    (8): Conv2d(384, 256, kernel_size=(3, 3), stride=(1, 1), padding=(1, 1))\n",
       "    (9): ReLU(inplace)\n",
       "    (10): Conv2d(256, 256, kernel_size=(3, 3), stride=(1, 1), padding=(1, 1))\n",
       "    (11): ReLU(inplace)\n",
       "    (12): MaxPool2d(kernel_size=3, stride=2, padding=0, dilation=1, ceil_mode=False)\n",
       "  )\n",
       "  (classifier): Sequential(\n",
       "    (0): Dropout(p=0.5)\n",
       "    (1): Linear(in_features=9216, out_features=4096, bias=True)\n",
       "    (2): ReLU(inplace)\n",
       "    (3): Dropout(p=0.5)\n",
       "    (4): Linear(in_features=4096, out_features=4096, bias=True)\n",
       "    (5): ReLU(inplace)\n",
       "    (6): Linear(in_features=4096, out_features=1000, bias=True)\n",
       "  )\n",
       ")"
      ]
     },
     "execution_count": 5,
     "metadata": {},
     "output_type": "execute_result"
    }
   ],
   "source": [
    "\n",
    "# TODO: Build and train your network\n",
    "model = models.alexnet (pretrained = True)\n",
    "model\n",
    "#"
   ]
  },
  {
   "cell_type": "code",
   "execution_count": 21,
   "metadata": {},
   "outputs": [
    {
     "data": {
      "text/plain": [
       "AlexNet(\n",
       "  (features): Sequential(\n",
       "    (0): Conv2d(3, 64, kernel_size=(11, 11), stride=(4, 4), padding=(2, 2))\n",
       "    (1): ReLU(inplace)\n",
       "    (2): MaxPool2d(kernel_size=3, stride=2, padding=0, dilation=1, ceil_mode=False)\n",
       "    (3): Conv2d(64, 192, kernel_size=(5, 5), stride=(1, 1), padding=(2, 2))\n",
       "    (4): ReLU(inplace)\n",
       "    (5): MaxPool2d(kernel_size=3, stride=2, padding=0, dilation=1, ceil_mode=False)\n",
       "    (6): Conv2d(192, 384, kernel_size=(3, 3), stride=(1, 1), padding=(1, 1))\n",
       "    (7): ReLU(inplace)\n",
       "    (8): Conv2d(384, 256, kernel_size=(3, 3), stride=(1, 1), padding=(1, 1))\n",
       "    (9): ReLU(inplace)\n",
       "    (10): Conv2d(256, 256, kernel_size=(3, 3), stride=(1, 1), padding=(1, 1))\n",
       "    (11): ReLU(inplace)\n",
       "    (12): MaxPool2d(kernel_size=3, stride=2, padding=0, dilation=1, ceil_mode=False)\n",
       "  )\n",
       "  (classifier): Sequential(\n",
       "    (1): Linear(in_features=9216, out_features=5000, bias=True)\n",
       "    (relu1): ReLU()\n",
       "    (dropout1): Dropout(p=0.3)\n",
       "    (2): Linear(in_features=5000, out_features=2000, bias=True)\n",
       "    (relu2): ReLU()\n",
       "    (dropout2): Dropout(p=0.1)\n",
       "    (3): Linear(in_features=2000, out_features=102, bias=True)\n",
       "    (output): LogSoftmax()\n",
       "  )\n",
       ")"
      ]
     },
     "execution_count": 21,
     "metadata": {},
     "output_type": "execute_result"
    }
   ],
   "source": [
    "# updating classifer in the network\n",
    "for param in model.parameters(): \n",
    "    param.requires_grad = False\n",
    "\n",
    "classifier = nn.Sequential  (OrderedDict ([\n",
    "                            ('1', nn.Linear (9216, 5000)),\n",
    "                            ('relu1', nn.ReLU ()),\n",
    "                            ('dropout1', nn.Dropout (p = 0.3)),\n",
    "                            ('2', nn.Linear (5000, 2000)),\n",
    "                            ('relu2', nn.ReLU ()),\n",
    "                            ('dropout2', nn.Dropout (p = 0.1)),\n",
    "                            ('3', nn.Linear (2000, 102)),\n",
    "                            ('output', nn.LogSoftmax (dim =1))\n",
    "                            ]))\n",
    "model.classifier = classifier\n",
    "model"
   ]
  },
  {
   "cell_type": "code",
   "execution_count": 22,
   "metadata": {},
   "outputs": [],
   "source": [
    "#initializing criterion and optimizer\n",
    "criterion = nn.NLLLoss ()\n",
    "optimizer = optim.Adam (model.classifier.parameters (), lr = 0.001)"
   ]
  },
  {
   "cell_type": "code",
   "execution_count": 23,
   "metadata": {},
   "outputs": [
    {
     "data": {
      "text/plain": [
       "device(type='cuda', index=0)"
      ]
     },
     "execution_count": 23,
     "metadata": {},
     "output_type": "execute_result"
    }
   ],
   "source": [
    "# Device agnostic code, automatically uses CUDA if it's enabled\n",
    "device = torch.device(\"cuda:0\" if torch.cuda.is_available() else \"cpu\")\n",
    "device"
   ]
  },
  {
   "cell_type": "code",
   "execution_count": 24,
   "metadata": {},
   "outputs": [
    {
     "data": {
      "text/plain": [
       "AlexNet(\n",
       "  (features): Sequential(\n",
       "    (0): Conv2d(3, 64, kernel_size=(11, 11), stride=(4, 4), padding=(2, 2))\n",
       "    (1): ReLU(inplace)\n",
       "    (2): MaxPool2d(kernel_size=3, stride=2, padding=0, dilation=1, ceil_mode=False)\n",
       "    (3): Conv2d(64, 192, kernel_size=(5, 5), stride=(1, 1), padding=(2, 2))\n",
       "    (4): ReLU(inplace)\n",
       "    (5): MaxPool2d(kernel_size=3, stride=2, padding=0, dilation=1, ceil_mode=False)\n",
       "    (6): Conv2d(192, 384, kernel_size=(3, 3), stride=(1, 1), padding=(1, 1))\n",
       "    (7): ReLU(inplace)\n",
       "    (8): Conv2d(384, 256, kernel_size=(3, 3), stride=(1, 1), padding=(1, 1))\n",
       "    (9): ReLU(inplace)\n",
       "    (10): Conv2d(256, 256, kernel_size=(3, 3), stride=(1, 1), padding=(1, 1))\n",
       "    (11): ReLU(inplace)\n",
       "    (12): MaxPool2d(kernel_size=3, stride=2, padding=0, dilation=1, ceil_mode=False)\n",
       "  )\n",
       "  (classifier): Sequential(\n",
       "    (1): Linear(in_features=9216, out_features=5000, bias=True)\n",
       "    (relu1): ReLU()\n",
       "    (dropout1): Dropout(p=0.3)\n",
       "    (2): Linear(in_features=5000, out_features=2000, bias=True)\n",
       "    (relu2): ReLU()\n",
       "    (dropout2): Dropout(p=0.1)\n",
       "    (3): Linear(in_features=2000, out_features=102, bias=True)\n",
       "    (output): LogSoftmax()\n",
       "  )\n",
       ")"
      ]
     },
     "execution_count": 24,
     "metadata": {},
     "output_type": "execute_result"
    }
   ],
   "source": [
    "# change to device\n",
    "model.to(device)"
   ]
  },
  {
   "cell_type": "code",
   "execution_count": 25,
   "metadata": {},
   "outputs": [],
   "source": [
    "# Defining validation \n",
    "def validation(model, valid_loader, criterion):\n",
    "    \n",
    "    valid_loss = 0\n",
    "    accuracy = 0\n",
    "    \n",
    "    for inputs, labels in valid_loader:\n",
    "        \n",
    "        inputs = inputs.to(device)\n",
    "        labels = labels.to(device)\n",
    "        \n",
    "        output = model.forward(inputs)\n",
    "        valid_loss += criterion(output, labels).item()\n",
    "\n",
    "        ps = torch.exp(output)\n",
    "        equality = (labels.data == ps.max(dim=1)[1])\n",
    "        accuracy += equality.type(torch.FloatTensor).mean()\n",
    "    \n",
    "    return valid_loss, accuracy"
   ]
  },
  {
   "cell_type": "code",
   "execution_count": 26,
   "metadata": {},
   "outputs": [],
   "source": [
    "def Training_model(model, train_loader, criterion, epochs, print_every):\n",
    "    print('Starting Training.... ')\n",
    "    \n",
    "    start = time.time()\n",
    "    \n",
    "    steps = 0\n",
    "    \n",
    "    for epoch in range(epochs):\n",
    "        running_loss = 0 \n",
    "        for inputs, labels in train_loader: \n",
    "            steps +=1\n",
    "            \n",
    "            inputs = inputs.to(device)\n",
    "            labels = labels.to(device)\n",
    "            \n",
    "            optimizer.zero_grad ()\n",
    "            \n",
    "            # Forward and backward passes\n",
    "            outputs = model.forward (inputs) #calculating output\n",
    "            loss = criterion (outputs, labels) #calculating loss\n",
    "            loss.backward () \n",
    "            optimizer.step ()\n",
    "            \n",
    "            running_loss += loss.item ()\n",
    "                \n",
    "            if steps % print_every == 0:\n",
    "                model.eval () #switching to evaluation mode so that dropout is turned off\n",
    "            \n",
    "                # Turn off gradients for validation, saves memory and computations\n",
    "                with torch.no_grad():\n",
    "                    valid_loss, accuracy = validation(model, valid_loader, criterion)\n",
    "\n",
    "                print(\"Epoch: {}/{} | \".format(epoch+1, epochs),\n",
    "                      \"Training Loss: {:.4f} | \".format(running_loss/print_every),\n",
    "                      \"Valid Loss: {:.4f} | \".format(valid_loss/len(valid_loader)),\n",
    "                      \"Valid Accuracy: {:.4f}% |\".format(accuracy/len(valid_loader)*100))\n",
    "\n",
    "                running_loss = 0\n",
    "            \n",
    "                # Make sure training is back on\n",
    "                model.train()\n",
    "        \n",
    "    finish = time.time()\n",
    "    print('Model finished Training after {:.4f} seconds'.format(finish-start))\n",
    "\n",
    "    return model\n",
    "                "
   ]
  },
  {
   "cell_type": "code",
   "execution_count": 27,
   "metadata": {
    "scrolled": true
   },
   "outputs": [
    {
     "name": "stdout",
     "output_type": "stream",
     "text": [
      "Starting Training.... \n",
      "Epoch: 1/3 |  Training Loss: 8.6813 |  Valid Loss: 5.4943 |  Valid Accuracy: 2.5240% |\n",
      "Epoch: 1/3 |  Training Loss: 4.8901 |  Valid Loss: 4.4251 |  Valid Accuracy: 10.5192% |\n",
      "Epoch: 1/3 |  Training Loss: 4.2953 |  Valid Loss: 4.1860 |  Valid Accuracy: 9.5240% |\n",
      "Epoch: 1/3 |  Training Loss: 4.1917 |  Valid Loss: 3.7199 |  Valid Accuracy: 19.1202% |\n",
      "Epoch: 1/3 |  Training Loss: 3.8923 |  Valid Loss: 3.3885 |  Valid Accuracy: 23.3798% |\n",
      "Epoch: 1/3 |  Training Loss: 3.4293 |  Valid Loss: 3.0615 |  Valid Accuracy: 28.0337% |\n",
      "Epoch: 1/3 |  Training Loss: 3.1478 |  Valid Loss: 2.7077 |  Valid Accuracy: 33.4375% |\n",
      "Epoch: 1/3 |  Training Loss: 3.0836 |  Valid Loss: 2.3948 |  Valid Accuracy: 39.5000% |\n",
      "Epoch: 1/3 |  Training Loss: 2.7584 |  Valid Loss: 2.1978 |  Valid Accuracy: 44.2837% |\n",
      "Epoch: 1/3 |  Training Loss: 2.7626 |  Valid Loss: 2.0406 |  Valid Accuracy: 47.2548% |\n",
      "Epoch: 1/3 |  Training Loss: 2.5383 |  Valid Loss: 2.0027 |  Valid Accuracy: 46.2404% |\n",
      "Epoch: 1/3 |  Training Loss: 2.4963 |  Valid Loss: 1.9300 |  Valid Accuracy: 49.1923% |\n",
      "Epoch: 1/3 |  Training Loss: 2.2076 |  Valid Loss: 1.8767 |  Valid Accuracy: 50.9423% |\n",
      "Epoch: 1/3 |  Training Loss: 2.1574 |  Valid Loss: 1.7500 |  Valid Accuracy: 52.6442% |\n",
      "Epoch: 1/3 |  Training Loss: 2.2473 |  Valid Loss: 1.4995 |  Valid Accuracy: 58.7692% |\n",
      "Epoch: 1/3 |  Training Loss: 2.0526 |  Valid Loss: 1.5754 |  Valid Accuracy: 57.0192% |\n",
      "Epoch: 1/3 |  Training Loss: 2.3081 |  Valid Loss: 1.4967 |  Valid Accuracy: 60.4183% |\n",
      "Epoch: 1/3 |  Training Loss: 2.1489 |  Valid Loss: 1.3556 |  Valid Accuracy: 62.8365% |\n",
      "Epoch: 1/3 |  Training Loss: 2.1292 |  Valid Loss: 1.3920 |  Valid Accuracy: 61.8269% |\n",
      "Epoch: 1/3 |  Training Loss: 2.0400 |  Valid Loss: 1.3947 |  Valid Accuracy: 61.1731% |\n",
      "Epoch: 2/3 |  Training Loss: 0.7465 |  Valid Loss: 1.2801 |  Valid Accuracy: 63.8125% |\n",
      "Epoch: 2/3 |  Training Loss: 1.7543 |  Valid Loss: 1.3245 |  Valid Accuracy: 63.5433% |\n",
      "Epoch: 2/3 |  Training Loss: 1.8301 |  Valid Loss: 1.4449 |  Valid Accuracy: 59.0625% |\n",
      "Epoch: 2/3 |  Training Loss: 1.8666 |  Valid Loss: 1.3103 |  Valid Accuracy: 63.5096% |\n",
      "Epoch: 2/3 |  Training Loss: 1.9582 |  Valid Loss: 1.1688 |  Valid Accuracy: 67.0962% |\n",
      "Epoch: 2/3 |  Training Loss: 1.6880 |  Valid Loss: 1.1999 |  Valid Accuracy: 67.3750% |\n",
      "Epoch: 2/3 |  Training Loss: 1.7734 |  Valid Loss: 1.1564 |  Valid Accuracy: 67.8173% |\n",
      "Epoch: 2/3 |  Training Loss: 1.8602 |  Valid Loss: 1.0803 |  Valid Accuracy: 69.7885% |\n",
      "Epoch: 2/3 |  Training Loss: 1.8317 |  Valid Loss: 1.0818 |  Valid Accuracy: 68.4135% |\n",
      "Epoch: 2/3 |  Training Loss: 1.7627 |  Valid Loss: 1.0326 |  Valid Accuracy: 70.8750% |\n",
      "Epoch: 2/3 |  Training Loss: 1.5795 |  Valid Loss: 1.0833 |  Valid Accuracy: 68.6250% |\n",
      "Epoch: 2/3 |  Training Loss: 1.7188 |  Valid Loss: 1.0737 |  Valid Accuracy: 67.4375% |\n",
      "Epoch: 2/3 |  Training Loss: 1.8259 |  Valid Loss: 0.9846 |  Valid Accuracy: 71.9375% |\n",
      "Epoch: 2/3 |  Training Loss: 1.7733 |  Valid Loss: 1.0212 |  Valid Accuracy: 69.3269% |\n",
      "Epoch: 2/3 |  Training Loss: 1.6702 |  Valid Loss: 1.0730 |  Valid Accuracy: 69.6875% |\n",
      "Epoch: 2/3 |  Training Loss: 1.5981 |  Valid Loss: 0.9668 |  Valid Accuracy: 73.2885% |\n",
      "Epoch: 2/3 |  Training Loss: 1.5748 |  Valid Loss: 1.0300 |  Valid Accuracy: 71.4567% |\n",
      "Epoch: 2/3 |  Training Loss: 1.8889 |  Valid Loss: 1.0661 |  Valid Accuracy: 69.4808% |\n",
      "Epoch: 2/3 |  Training Loss: 1.3258 |  Valid Loss: 1.0081 |  Valid Accuracy: 71.2500% |\n",
      "Epoch: 2/3 |  Training Loss: 1.5954 |  Valid Loss: 0.9277 |  Valid Accuracy: 73.8894% |\n",
      "Epoch: 2/3 |  Training Loss: 1.5285 |  Valid Loss: 0.9571 |  Valid Accuracy: 72.9856% |\n",
      "Epoch: 3/3 |  Training Loss: 1.1683 |  Valid Loss: 0.9635 |  Valid Accuracy: 74.3029% |\n",
      "Epoch: 3/3 |  Training Loss: 1.4569 |  Valid Loss: 0.9277 |  Valid Accuracy: 75.1442% |\n",
      "Epoch: 3/3 |  Training Loss: 1.5928 |  Valid Loss: 0.8865 |  Valid Accuracy: 75.0962% |\n",
      "Epoch: 3/3 |  Training Loss: 1.4738 |  Valid Loss: 0.9612 |  Valid Accuracy: 72.7067% |\n",
      "Epoch: 3/3 |  Training Loss: 1.6244 |  Valid Loss: 0.8842 |  Valid Accuracy: 75.1106% |\n",
      "Epoch: 3/3 |  Training Loss: 1.5714 |  Valid Loss: 0.8722 |  Valid Accuracy: 74.9423% |\n",
      "Epoch: 3/3 |  Training Loss: 1.3834 |  Valid Loss: 0.8503 |  Valid Accuracy: 77.9808% |\n",
      "Epoch: 3/3 |  Training Loss: 1.5495 |  Valid Loss: 0.8745 |  Valid Accuracy: 75.7788% |\n",
      "Epoch: 3/3 |  Training Loss: 1.4312 |  Valid Loss: 0.8628 |  Valid Accuracy: 74.5625% |\n",
      "Epoch: 3/3 |  Training Loss: 1.5698 |  Valid Loss: 0.8751 |  Valid Accuracy: 74.3558% |\n",
      "Epoch: 3/3 |  Training Loss: 1.5852 |  Valid Loss: 0.9400 |  Valid Accuracy: 73.3125% |\n",
      "Epoch: 3/3 |  Training Loss: 1.6581 |  Valid Loss: 0.8884 |  Valid Accuracy: 74.7692% |\n",
      "Epoch: 3/3 |  Training Loss: 1.4024 |  Valid Loss: 0.8325 |  Valid Accuracy: 76.3317% |\n",
      "Epoch: 3/3 |  Training Loss: 1.4736 |  Valid Loss: 0.7869 |  Valid Accuracy: 76.8077% |\n",
      "Epoch: 3/3 |  Training Loss: 1.3543 |  Valid Loss: 0.8519 |  Valid Accuracy: 76.8702% |\n",
      "Epoch: 3/3 |  Training Loss: 1.4857 |  Valid Loss: 0.7574 |  Valid Accuracy: 79.6250% |\n",
      "Epoch: 3/3 |  Training Loss: 1.1691 |  Valid Loss: 0.7775 |  Valid Accuracy: 78.3221% |\n",
      "Epoch: 3/3 |  Training Loss: 1.1787 |  Valid Loss: 0.8261 |  Valid Accuracy: 77.5144% |\n",
      "Epoch: 3/3 |  Training Loss: 1.5550 |  Valid Loss: 0.7285 |  Valid Accuracy: 79.3654% |\n",
      "Epoch: 3/3 |  Training Loss: 1.3464 |  Valid Loss: 0.8083 |  Valid Accuracy: 77.7548% |\n",
      "Model finished Training after 713.2668 seconds\n"
     ]
    }
   ],
   "source": [
    "new_model = Training_model(model, train_loader, criterion, 3, 5)"
   ]
  },
  {
   "cell_type": "code",
   "execution_count": 28,
   "metadata": {},
   "outputs": [],
   "source": [
    "# Validation on Test Set \n",
    "def test_model(): \n",
    "    accuracy = 0\n",
    "    correct = 0\n",
    "    with torch.no_grad(): \n",
    "        for inputs, labels in test_loader: \n",
    "\n",
    "            inputs = inputs.to(device)\n",
    "            labels = labels.to(device)\n",
    "\n",
    "            outputs =  model(inputs)\n",
    "\n",
    "            ps = torch.exp(outputs).data\n",
    "            equality = (labels.data == ps.max(1)[1])\n",
    "            accuracy += equality.type_as(torch.FloatTensor()).mean()\n",
    "\n",
    "    print('Accuracy of the network on the test images: %d %%' % (accuracy/len(test_loader)*100))\n",
    "            \n",
    "           # accuracy =  (100 * correct / total)\n",
    "    return correct"
   ]
  },
  {
   "cell_type": "code",
   "execution_count": 29,
   "metadata": {},
   "outputs": [
    {
     "name": "stdout",
     "output_type": "stream",
     "text": [
      "Accuracy of the network on the test images: 66 %\n"
     ]
    }
   ],
   "source": [
    "test = test_model()"
   ]
  },
  {
   "cell_type": "markdown",
   "metadata": {},
   "source": [
    "## Save the checkpoint\n",
    "\n",
    "Now that your network is trained, save the model so you can load it later for making predictions. You probably want to save other things such as the mapping of classes to indices which you get from one of the image datasets: `image_datasets['train'].class_to_idx`. You can attach this to the model as an attribute which makes inference easier later on.\n",
    "\n",
    "```model.class_to_idx = image_datasets['train'].class_to_idx```\n",
    "\n",
    "Remember that you'll want to completely rebuild the model later so you can use it for inference. Make sure to include any information you need in the checkpoint. If you want to load the model and keep training, you'll want to save the number of epochs as well as the optimizer state, `optimizer.state_dict`. You'll likely want to use this trained model in the next part of the project, so best to save it now."
   ]
  },
  {
   "cell_type": "code",
   "execution_count": 30,
   "metadata": {},
   "outputs": [],
   "source": [
    "# TODO: Save the checkpoint \n",
    "model.class_to_idx = train_image_datasets.class_to_idx"
   ]
  },
  {
   "cell_type": "markdown",
   "metadata": {},
   "source": [
    "## Loading the checkpoint\n",
    "\n",
    "At this point it's good to write a function that can load a checkpoint and rebuild the model. That way you can come back to this project and keep working on it without having to retrain the network."
   ]
  },
  {
   "cell_type": "code",
   "execution_count": 31,
   "metadata": {},
   "outputs": [],
   "source": [
    "checkpoint = {'batch_size': train_loader.batch_size,\n",
    "                  'output_size': 102,\n",
    "                  'state_dict': model.state_dict(),\n",
    "                  'optimizer_dict':optimizer.state_dict(),\n",
    "                  'class': model.class_to_idx, \n",
    "                  'classifier': model.classifier,}\n",
    "torch.save(checkpoint, 'checkpoint.pth')"
   ]
  },
  {
   "cell_type": "code",
   "execution_count": 6,
   "metadata": {},
   "outputs": [],
   "source": [
    "# TODO: Write a function that loads a checkpoint and rebuilds the model\n",
    "def load_model(model_location):\n",
    "    checkpoint = torch.load(model_location)\n",
    "    \n",
    "    #model.load_state_dict(checkpoint['state_dict'])\n",
    "    model.classifier = checkpoint['classifier']\n",
    "    model.class_to_idx = checkpoint['class']\n",
    "    return model\n",
    "    \n",
    "model = load_model('checkpoint.pth')  \n"
   ]
  },
  {
   "cell_type": "code",
   "execution_count": 7,
   "metadata": {},
   "outputs": [
    {
     "name": "stdout",
     "output_type": "stream",
     "text": [
      "AlexNet(\n",
      "  (features): Sequential(\n",
      "    (0): Conv2d(3, 64, kernel_size=(11, 11), stride=(4, 4), padding=(2, 2))\n",
      "    (1): ReLU(inplace)\n",
      "    (2): MaxPool2d(kernel_size=3, stride=2, padding=0, dilation=1, ceil_mode=False)\n",
      "    (3): Conv2d(64, 192, kernel_size=(5, 5), stride=(1, 1), padding=(2, 2))\n",
      "    (4): ReLU(inplace)\n",
      "    (5): MaxPool2d(kernel_size=3, stride=2, padding=0, dilation=1, ceil_mode=False)\n",
      "    (6): Conv2d(192, 384, kernel_size=(3, 3), stride=(1, 1), padding=(1, 1))\n",
      "    (7): ReLU(inplace)\n",
      "    (8): Conv2d(384, 256, kernel_size=(3, 3), stride=(1, 1), padding=(1, 1))\n",
      "    (9): ReLU(inplace)\n",
      "    (10): Conv2d(256, 256, kernel_size=(3, 3), stride=(1, 1), padding=(1, 1))\n",
      "    (11): ReLU(inplace)\n",
      "    (12): MaxPool2d(kernel_size=3, stride=2, padding=0, dilation=1, ceil_mode=False)\n",
      "  )\n",
      "  (classifier): Sequential(\n",
      "    (1): Linear(in_features=9216, out_features=5000, bias=True)\n",
      "    (relu1): ReLU()\n",
      "    (dropout1): Dropout(p=0.3)\n",
      "    (2): Linear(in_features=5000, out_features=2000, bias=True)\n",
      "    (relu2): ReLU()\n",
      "    (dropout2): Dropout(p=0.1)\n",
      "    (3): Linear(in_features=2000, out_features=102, bias=True)\n",
      "    (output): LogSoftmax()\n",
      "  )\n",
      ")\n"
     ]
    }
   ],
   "source": [
    "print(model)"
   ]
  },
  {
   "cell_type": "markdown",
   "metadata": {},
   "source": [
    "# Inference for classification\n",
    "\n",
    "Now you'll write a function to use a trained network for inference. That is, you'll pass an image into the network and predict the class of the flower in the image. Write a function called `predict` that takes an image and a model, then returns the top $K$ most likely classes along with the probabilities. It should look like \n",
    "\n",
    "```python\n",
    "probs, classes = predict(image_path, model)\n",
    "print(probs)\n",
    "print(classes)\n",
    "> [ 0.01558163  0.01541934  0.01452626  0.01443549  0.01407339]\n",
    "> ['70', '3', '45', '62', '55']\n",
    "```\n",
    "\n",
    "First you'll need to handle processing the input image such that it can be used in your network. \n",
    "\n",
    "## Image Preprocessing\n",
    "\n",
    "You'll want to use `PIL` to load the image ([documentation](https://pillow.readthedocs.io/en/latest/reference/Image.html)). It's best to write a function that preprocesses the image so it can be used as input for the model. This function should process the images in the same manner used for training. \n",
    "\n",
    "First, resize the images where the shortest side is 256 pixels, keeping the aspect ratio. This can be done with the [`thumbnail`](http://pillow.readthedocs.io/en/3.1.x/reference/Image.html#PIL.Image.Image.thumbnail) or [`resize`](http://pillow.readthedocs.io/en/3.1.x/reference/Image.html#PIL.Image.Image.thumbnail) methods. Then you'll need to crop out the center 224x224 portion of the image.\n",
    "\n",
    "Color channels of images are typically encoded as integers 0-255, but the model expected floats 0-1. You'll need to convert the values. It's easiest with a Numpy array, which you can get from a PIL image like so `np_image = np.array(pil_image)`.\n",
    "\n",
    "As before, the network expects the images to be normalized in a specific way. For the means, it's `[0.485, 0.456, 0.406]` and for the standard deviations `[0.229, 0.224, 0.225]`. You'll want to subtract the means from each color channel, then divide by the standard deviation. \n",
    "\n",
    "And finally, PyTorch expects the color channel to be the first dimension but it's the third dimension in the PIL image and Numpy array. You can reorder dimensions using [`ndarray.transpose`](https://docs.scipy.org/doc/numpy-1.13.0/reference/generated/numpy.ndarray.transpose.html). The color channel needs to be first and retain the order of the other two dimensions."
   ]
  },
  {
   "cell_type": "code",
   "execution_count": 8,
   "metadata": {},
   "outputs": [],
   "source": [
    "# TODO: Process a PIL image for use in a PyTorch model\n",
    "def process_image(image):\n",
    "    ''' Scales, crops, and normalizes a PIL image for a PyTorch model,\n",
    "        returns an Numpy array\n",
    "    '''\n",
    "    \n",
    "    img = Image.open(image)\n",
    "    \n",
    "    modify_image = transforms.Compose([\n",
    "        transforms.Resize(256), \n",
    "        transforms.CenterCrop(224),\n",
    "        transforms.ToTensor(), \n",
    "        transforms.Normalize(mean = [0.485, 0.456, 0.406], std = [0.229, 0.224, 0.225])])\n",
    "    \n",
    "    tensor = modify_image(img)\n",
    "    \n",
    "    return tensor\n",
    "    \n",
    "    \n",
    "   "
   ]
  },
  {
   "cell_type": "code",
   "execution_count": 9,
   "metadata": {},
   "outputs": [],
   "source": [
    "def show_image(image, ax = None):\n",
    "    \n",
    "    if ax is None:\n",
    "        fig, ax = plt.subplots()\n",
    "        \n",
    "    image = image.numpy().transpose(1,2,0)\n",
    "    \n",
    "    image = np.array([0.485, 0.456, 0.406])*image + np.array([0.229, 0.224, 0.225])\n",
    "    \n",
    "    clipped_image = np.clip(image, 0, 1)\n",
    "    \n",
    "    ax.imshow(clipped_image)\n",
    "    \n",
    "    return ax\n",
    "    "
   ]
  },
  {
   "cell_type": "code",
   "execution_count": 10,
   "metadata": {},
   "outputs": [
    {
     "name": "stdout",
     "output_type": "stream",
     "text": [
      "torch.Size([3, 224, 224])\n"
     ]
    }
   ],
   "source": [
    "img = process_image(test_dir + '/1/image_06752.jpg')\n",
    "print(img.shape)"
   ]
  },
  {
   "cell_type": "code",
   "execution_count": 11,
   "metadata": {},
   "outputs": [
    {
     "data": {
      "text/plain": [
       "<matplotlib.axes._subplots.AxesSubplot at 0x7f2cba5ffcf8>"
      ]
     },
     "execution_count": 11,
     "metadata": {},
     "output_type": "execute_result"
    },
    {
     "data": {
      "image/png": "[encoded data removed]",
      "text/plain": [
       "<matplotlib.figure.Figure at 0x7f2cbb297080>"
      ]
     },
     "metadata": {
      "needs_background": "light"
     },
     "output_type": "display_data"
    }
   ],
   "source": [
    "show_image(img)"
   ]
  },
  {
   "cell_type": "markdown",
   "metadata": {},
   "source": [
    "To check your work, the function below converts a PyTorch tensor and displays it in the notebook. If your `process_image` function works, running the output through this function should return the original image (except for the cropped out portions)."
   ]
  },
  {
   "cell_type": "markdown",
   "metadata": {},
   "source": [
    "## Class Prediction\n",
    "\n",
    "Once you can get images in the correct format, it's time to write a function for making predictions with your model. A common practice is to predict the top 5 or so (usually called top-$K$) most probable classes. You'll want to calculate the class probabilities then find the $K$ largest values.\n",
    "\n",
    "To get the top $K$ largest values in a tensor use [`x.topk(k)`](http://pytorch.org/docs/master/torch.html#torch.topk). This method returns both the highest `k` probabilities and the indices of those probabilities corresponding to the classes. You need to convert from these indices to the actual class labels using `class_to_idx` which hopefully you added to the model or from an `ImageFolder` you used to load the data ([see here](#Save-the-checkpoint)). Make sure to invert the dictionary so you get a mapping from index to class as well.\n",
    "\n",
    "Again, this method should take a path to an image and a model checkpoint, then return the probabilities and classes.\n",
    "\n",
    "```python\n",
    "probs, classes = predict(image_path, model)\n",
    "print(probs)\n",
    "print(classes)\n",
    "> [ 0.01558163  0.01541934  0.01452626  0.01443549  0.01407339]\n",
    "> ['70', '3', '45', '62', '55']\n",
    "```"
   ]
  },
  {
   "cell_type": "code",
   "execution_count": 64,
   "metadata": {},
   "outputs": [],
   "source": [
    "def predict(image_path, model, top_classes =5):\n",
    "    ''' Predict the class (or classes) of an image using a trained deep learning model.\n",
    "    '''\n",
    "    image = process_image(image_path)\n",
    "    image = image.to(device)\n",
    "    model = model.to(device)\n",
    "    model.eval()\n",
    "    image = image.unsqueeze_(0)\n",
    "    image = image.float()\n",
    "    \n",
    "    \n",
    "    output = model.forward(image)   \n",
    "    \n",
    "    probabilities = torch.exp(output)\n",
    "    top_probs, top_labels =  probabilities.topk(5)\n",
    "    #probabilities = probabilities.cpu().data.numpy()\n",
    "    #top_labels = np.array(top_labels.detach())[0]\n",
    "    \n",
    "    top_probs = np.array(top_probs.detach())[0] # This is not the correct way to do it but the correct way isnt working thanks to cpu/gpu issues so I don't care.\n",
    "    top_labels = np.array(top_labels.detach())[0]\n",
    "    \n",
    "    # Convert to classes\n",
    "    idx_to_class = {val: key for key, val in    \n",
    "                                      model.class_to_idx.items()}\n",
    "    top_labels = [idx_to_class[lab] for lab in top_labels]\n",
    "    top_flowers = [cat_to_name[lab] for lab in top_labels]\n",
    "    \n",
    "    \n",
    "    \n",
    "    return top_probs, top_labels, top_flowers\n",
    "    \n",
    "    # TODO: Implement the code to predict the class from an image file\n",
    "\n",
    "probs, labels, flowers = predict(test_dir + '/2/image_05100.jpg', model)"
   ]
  },
  {
   "cell_type": "markdown",
   "metadata": {},
   "source": [
    "## Sanity Checking\n",
    "\n",
    "Now that you can use a trained model for predictions, check to make sure it makes sense. Even if the testing accuracy is high, it's always good to check that there aren't obvious bugs. Use `matplotlib` to plot the probabilities for the top 5 classes as a bar graph, along with the input image. It should look like this:\n",
    "\n",
    "<img src='assets/inference_example.png' width=300px>\n",
    "\n",
    "You can convert from the class integer encoding to actual flower names with the `cat_to_name.json` file (should have been loaded earlier in the notebook). To show a PyTorch tensor as an image, use the `imshow` function defined above."
   ]
  },
  {
   "cell_type": "code",
   "execution_count": 65,
   "metadata": {},
   "outputs": [],
   "source": [
    "import matplotlib\n",
    "from pylab import *\n",
    "import seaborn as sns"
   ]
  },
  {
   "cell_type": "code",
   "execution_count": 76,
   "metadata": {},
   "outputs": [
    {
     "data": {
      "image/png": "[encoded data removed]",
      "text/plain": [
       "<matplotlib.figure.Figure at 0x7f2c87b08e48>"
      ]
     },
     "metadata": {
      "image/png": {
       "height": 131,
       "width": 446
      },
      "needs_background": "light"
     },
     "output_type": "display_data"
    }
   ],
   "source": [
    "# TODO: Display an image along with the top 5 classes\n",
    "# TODO: Display an image along with the top 5 classes\n",
    "# Define image path\n",
    "image_path = \"flowers/test/10/image_07090.jpg\"\n",
    "\n",
    "\n",
    "\n",
    "# Set up title\n",
    "flower_num = image_path.split('/')[2]\n",
    "title_ = cat_to_name[flower_num]\n",
    "\n",
    "\n",
    "\n",
    "# Make prediction\n",
    "probs, labs, flowers = predict(image_path, model) \n",
    "\n",
    "# Plot flower\n",
    "img = process_image(image_path)\n",
    "show_image(img)\n",
    "\n",
    "\n",
    "\n",
    "# Plot bar chart\n",
    "plt.subplot(2,1,2)\n",
    "sns.barplot(x=probs, y = flowers, color=sns.color_palette()[0]);\n",
    "plt.show()\n"
   ]
  },
  {
   "cell_type": "code",
   "execution_count": null,
   "metadata": {},
   "outputs": [],
   "source": []
  }
 ],
 "metadata": {
  "kernelspec": {
   "display_name": "Python 3",
   "language": "python",
   "name": "python3"
  },
  "language_info": {
   "codemirror_mode": {
    "name": "ipython",
    "version": 3
   },
   "file_extension": ".py",
   "mimetype": "text/x-python",
   "name": "python",
   "nbconvert_exporter": "python",
   "pygments_lexer": "ipython3",
   "version": "3.6.3"
  }
 },
 "nbformat": 4,
 "nbformat_minor": 2
}
